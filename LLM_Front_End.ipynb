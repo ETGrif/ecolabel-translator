{
  "nbformat": 4,
  "nbformat_minor": 0,
  "metadata": {
    "colab": {
      "provenance": [],
      "authorship_tag": "ABX9TyM1vxf1bz6T04BdD9Q0fCt5",
      "include_colab_link": true
    },
    "kernelspec": {
      "name": "python3",
      "display_name": "Python 3"
    },
    "language_info": {
      "name": "python"
    }
  },
  "cells": [
    {
      "cell_type": "markdown",
      "metadata": {
        "id": "view-in-github",
        "colab_type": "text"
      },
      "source": [
        "<a href=\"https://colab.research.google.com/github/ETGrif/ecolabel-translator/blob/main/LLM_Front_End.ipynb\" target=\"_parent\"><img src=\"https://colab.research.google.com/assets/colab-badge.svg\" alt=\"Open In Colab\"/></a>"
      ]
    },
    {
      "cell_type": "markdown",
      "source": [
        "Project Structure"
      ],
      "metadata": {
        "id": "v5kiSe-39ZeJ"
      }
    },
    {
      "cell_type": "code",
      "source": [
        "/eco_label_translator\n",
        "    ├── app.py               # Main Flask application\n",
        "    ├── templates/\n",
        "    │   ├── home.html        # Homepage template\n",
        "    │   ├── results.html     # Results page template\n",
        "    │   └── chat.html        # Chat interface template\n",
        "    ├── static/\n",
        "    │   └── style.css        # CSS for styling\n",
        "\n"
      ],
      "metadata": {
        "id": "0yuZ18rM7IHK"
      },
      "execution_count": null,
      "outputs": []
    },
    {
      "cell_type": "markdown",
      "source": [
        "app.py\n",
        "\n",
        "This is the main Flask application that will handle the routes for the front end\n",
        "\n",
        "* init_chat: Initializes a chat session with ChatManager and redirects to the chat interface.\n",
        "* chat: Displays the chat interface and handles messages. It uses ChatManager to get responses.\n",
        "* terminate_chat: Ends the chat session and redirects to the homepage.\n",
        "\n",
        "\n",
        "\n"
      ],
      "metadata": {
        "id": "LjvSqXPL7LU2"
      }
    },
    {
      "cell_type": "code",
      "source": [
        "from flask import Flask, render_template, request, redirect, url_for\n",
        "import requests  # For making HTTP requests to backend API\n",
        "from some_module import ChatManager, DBManager, GPTManager  # Assuming these are implemented in some_module\n",
        "\n",
        "app = Flask(__name__)\n",
        "\n",
        "# Initializing managers\n",
        "db_manager = DBManager()\n",
        "chat_manager = ChatManager()\n",
        "gpt_manager = GPTManager()\n",
        "\n",
        "@app.route('/')\n",
        "def home():\n",
        "    \"\"\"Renders the homepage with a search form and a button to initiate chat.\"\"\"\n",
        "    return render_template('home.html')\n",
        "\n",
        "@app.route('/results', methods=['GET'])\n",
        "def results():\n",
        "    \"\"\"Handles the results page that shows the eco-label information.\"\"\"\n",
        "    label = request.args.get('label')  # Gets the 'label' query parameter from the URL\n",
        "    if not label:\n",
        "        return redirect(url_for('home'))  # Redirects to home if no label is provided\n",
        "\n",
        "    # Send a GET request to the backend API to get eco-label information\n",
        "    try:\n",
        "        response = requests.get(f'http://localhost:5000/search?label={label}')\n",
        "        response.raise_for_status()  # Raises an error for unsuccessful status codes\n",
        "        data = response.json()  # Parses JSON response\n",
        "    except requests.exceptions.RequestException as e:\n",
        "        print(f\"Error fetching data: {e}\")\n",
        "        data = None  # If an error occurs, set data to None\n",
        "\n",
        "    return render_template('results.html', label=label, data=data)\n",
        "\n",
        "@app.route('/init_chat', methods=['POST'])\n",
        "def init_chat():\n",
        "    \"\"\"Initializes a new chat session and redirects to the chat page.\"\"\"\n",
        "    chat_id = chat_manager.create_chat()  # Initializes a chat session in ChatManager\n",
        "    return redirect(url_for('chat', chat_id=chat_id))\n",
        "\n",
        "@app.route('/chat/<chat_id>', methods=['GET', 'POST'])\n",
        "def chat(chat_id):\n",
        "    \"\"\"Handles chat interface for ongoing chat sessions.\"\"\"\n",
        "    if request.method == 'POST':\n",
        "        message = request.form.get('message')  # User's message from the form\n",
        "        response = chat_manager.get_resp(chat_id, message)  # Get response from ChatManager\n",
        "        return render_template('chat.html', chat_id=chat_id, messages=response['messages'])\n",
        "    return render_template('chat.html', chat_id=chat_id)\n",
        "\n",
        "@app.route('/terminate', methods=['POST'])\n",
        "def terminate_chat():\n",
        "    \"\"\"Terminates an ongoing chat session and redirects to the homepage.\"\"\"\n",
        "    chat_id = request.form.get('chat_id')\n",
        "    chat_manager.terminate_chat(chat_id)  # Terminates chat in ChatManager\n",
        "    return redirect(url_for('home'))\n",
        "\n",
        "if __name__ == '__main__':\n",
        "    app.run(debug=True)\n"
      ],
      "metadata": {
        "id": "I2uXUdKs7II6"
      },
      "execution_count": null,
      "outputs": []
    },
    {
      "cell_type": "markdown",
      "source": [
        "home.html\n",
        "\n",
        "The HTML template for the homepage where users enter the eco-label name\n",
        "\n",
        "* A form is added to initiate a chat session, which posts to /init_chat and redirects to the chat page\n"
      ],
      "metadata": {
        "id": "8Kvg04eZ7SlH"
      }
    },
    {
      "cell_type": "code",
      "source": [
        "<!DOCTYPE html>\n",
        "<html lang=\"en\">\n",
        "<head>\n",
        "    <meta charset=\"UTF-8\">\n",
        "    <meta name=\"viewport\" content=\"width=device-width, initial-scale=1.0\">\n",
        "    <title>Eco-Label Translator</title>\n",
        "    <link rel=\"stylesheet\" href=\"{{ url_for('static', filename='style.css') }}\">\n",
        "</head>\n",
        "<body>\n",
        "    <div class=\"container\">\n",
        "        <h1>Eco-Label Translator</h1>\n",
        "        <form action=\"{{ url_for('results') }}\" method=\"get\">\n",
        "            <input type=\"text\" name=\"label\" placeholder=\"Enter eco-label name\" required>\n",
        "            <button type=\"submit\">Search</button>\n",
        "        </form>\n",
        "\n",
        "        <!-- Form to start a new chat session -->\n",
        "        <form action=\"{{ url_for('init_chat') }}\" method=\"post\">\n",
        "            <button type=\"submit\">Start a Chat</button>\n",
        "        </form>\n",
        "    </div>\n",
        "</body>\n",
        "</html>"
      ],
      "metadata": {
        "id": "tgRH-87G7IMR"
      },
      "execution_count": null,
      "outputs": []
    },
    {
      "cell_type": "markdown",
      "source": [
        "results.html\n",
        "\n",
        "The HTML template for the results page, which displays the fetched eco-label data\n",
        "\n",
        "* A form for fetching a detailed explanation from GPTManager is included, submitting the label as a hidden field"
      ],
      "metadata": {
        "id": "1I_jrH-s7XzO"
      }
    },
    {
      "cell_type": "code",
      "source": [
        "<!DOCTYPE html>\n",
        "<html lang=\"en\">\n",
        "<head>\n",
        "    <meta charset=\"UTF-8\">\n",
        "    <meta name=\"viewport\" content=\"width=device-width, initial-scale=1.0\">\n",
        "    <title>Results for {{ label }}</title>\n",
        "    <link rel=\"stylesheet\" href=\"{{ url_for('static', filename='style.css') }}\">\n",
        "</head>\n",
        "<body>\n",
        "    <div class=\"container\">\n",
        "        <h1>Results for \"{{ label }}\"</h1>\n",
        "\n",
        "        {% if data %}\n",
        "            <div class=\"results\">\n",
        "                <p><strong>Description:</strong> {{ data['description'] }}</p>\n",
        "                <p><strong>EPA Recommendation:</strong> {{ data['epaRecommendation'] }}</p>\n",
        "\n",
        "                <!-- Form to get a detailed explanation from GPTManager -->\n",
        "                <form action=\"{{ url_for('get_resp') }}\" method=\"post\">\n",
        "                    <input type=\"hidden\" name=\"label\" value=\"{{ label }}\">\n",
        "                    <button type=\"submit\">Get Detailed Explanation</button>\n",
        "                </form>\n",
        "            </div>\n",
        "        {% else %}\n",
        "            <p>No data found for this label.</p>\n",
        "        {% endif %}\n",
        "\n",
        "        <a href=\"{{ url_for('home') }}\" class=\"back-link\">Go back</a>\n",
        "    </div>\n",
        "</body>\n",
        "</html>"
      ],
      "metadata": {
        "id": "ryoJa8En7IPP"
      },
      "execution_count": null,
      "outputs": []
    },
    {
      "cell_type": "markdown",
      "source": [
        "chat.html\n",
        "\n",
        "The chat interface, allowing users to engage in a conversation with the backend\n",
        "\n",
        "* Displays chat messages, including user and assistant responses\n",
        "* The form allows users to submit messages to continue the conversation\n",
        "* The \"End Chat\" button posts to /terminate, ending the chat session\n",
        "\n"
      ],
      "metadata": {
        "id": "o5Bh2URi9Oi4"
      }
    },
    {
      "cell_type": "code",
      "source": [
        "<!DOCTYPE html>\n",
        "<html lang=\"en\">\n",
        "<head>\n",
        "    <meta charset=\"UTF-8\">\n",
        "    <meta name=\"viewport\" content=\"width=device-width, initial-scale=1.0\">\n",
        "    <title>Chat Assistant</title>\n",
        "    <link rel=\"stylesheet\" href=\"{{ url_for('static', filename='style.css') }}\">\n",
        "</head>\n",
        "<body>\n",
        "    <div class=\"container\">\n",
        "        <h2>Eco-Label Chat Assistant</h2>\n",
        "        <div id=\"messages\">\n",
        "            {% for message in messages %}\n",
        "                <p><strong>{{ message['sender'] }}:</strong> {{ message['text'] }}</p>\n",
        "            {% endfor %}\n",
        "        </div>\n",
        "        <form action=\"{{ url_for('chat', chat_id=chat_id) }}\" method=\"post\">\n",
        "            <input type=\"text\" name=\"message\" placeholder=\"Type your message...\" required>\n",
        "            <button type=\"submit\">Send</button>\n",
        "        </form>\n",
        "        <form action=\"{{ url_for('terminate') }}\" method=\"post\">\n",
        "            <input type=\"hidden\" name=\"chat_id\" value=\"{{ chat_id }}\">\n",
        "            <button type=\"submit\">End Chat</button>\n",
        "        </form>\n",
        "    </div>\n",
        "</body>\n",
        "</html>\n"
      ],
      "metadata": {
        "id": "00B8IQMl9OWN"
      },
      "execution_count": null,
      "outputs": []
    },
    {
      "cell_type": "markdown",
      "source": [
        "style.css\n",
        "\n",
        "The CSS file to style the front end"
      ],
      "metadata": {
        "id": "hS7wZvAa7iWm"
      }
    },
    {
      "cell_type": "code",
      "source": [
        "/* style.css */\n",
        "\n",
        "body {\n",
        "    font-family: Arial, sans-serif;\n",
        "    text-align: center;\n",
        "    margin: 0;\n",
        "    padding: 0;\n",
        "    background-color: #f9f9f9;\n",
        "}\n",
        "\n",
        ".container {\n",
        "    max-width: 600px;\n",
        "    margin: 50px auto;\n",
        "    padding: 20px;\n",
        "    border-radius: 8px;\n",
        "    background-color: #ffffff;\n",
        "    box-shadow: 0 4px 8px rgba(0, 0, 0, 0.1);\n",
        "}\n",
        "\n",
        "h1, h2 {\n",
        "    color: #2c3e50;\n",
        "}\n",
        "\n",
        "input[type=\"text\"], button {\n",
        "    padding: 10px;\n",
        "    margin-top: 10px;\n",
        "    width: 80%;\n",
        "    border: 1px solid #ddd;\n",
        "    border-radius: 4px;\n",
        "}\n",
        "\n",
        "button {\n",
        "    width: auto;\n",
        "    background-color: #2980b9;\n",
        "    color: white;\n",
        "    cursor: pointer;\n",
        "    border: none;\n",
        "    margin-top: 10px;\n",
        "}\n",
        "\n",
        "button:hover {\n",
        "    background-color: #3498db;\n",
        "}\n",
        "\n",
        ".results, #messages {\n",
        "    text-align: left;\n",
        "    margin-top: 20px;\n",
        "}\n",
        "\n",
        ".back-link, .end-chat {\n",
        "    color: #2980b9;\n",
        "    text-decoration: none;\n",
        "    margin-top: 20px;\n",
        "    display: inline-block;\n",
        "}\n",
        "\n",
        ".back-link:hover, .end-chat:hover {\n",
        "    color: #3498db;\n",
        "}\n"
      ],
      "metadata": {
        "id": "AZEg-0dF7IRi"
      },
      "execution_count": null,
      "outputs": []
    }
  ]
}